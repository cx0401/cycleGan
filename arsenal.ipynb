{
 "cells": [
  {
   "cell_type": "code",
   "execution_count": 2,
   "id": "f4c99784-aaff-452c-882a-53c077c05523",
   "metadata": {},
   "outputs": [
    {
     "name": "stdout",
     "output_type": "stream",
     "text": [
      "2023-06-30 09:53:10.234 WARN [node_map.py:46] node_map_logger - \u001b[1;38;5;160mthe node name: tmp-exec has been defined, will be overwrite the node.\u001b[0m \n",
      "2023-06-30 09:53:10.235 INFO [node_map.py:52] node_map_logger - success to add node: \u001b[1;38;5;21mtmp-exec\u001b[0m \n",
      "2023-06-30 09:53:10.301 INFO [graph.py:677] ArsenalGraph_logger - \u0001\u0001开始发布任务\n",
      "2023-06-30 09:53:10.417 INFO [graph.py:599] ArsenalGraph_logger - \u0001\u0001任务提交成功，aflow_name: \u001b[1;38;5;21mlab-14-magic-6dbuyx\u001b[0m \n",
      "2023-06-30 09:53:10.417 INFO [graph.py:679] ArsenalGraph_logger - \u0001\u0001任务发布成功\n"
     ]
    }
   ],
   "source": [
    "%%simple_training submit \n",
    "--work_dir=/code/chenxi02/others/pytorch-CycleGAN-and-pix2pix-master\n",
    "--worker_img=harbor.weizhipin.com/business-pro/webide-image-lab-14:cyclegan-1.0\n",
    "--worker_cmd=sh run.sh\n",
    "--cpu=16\n",
    "--memory=20Gi\n",
    "--gpu=1\n",
    "--gpu_type=3090"
   ]
  },
  {
   "cell_type": "code",
   "execution_count": 9,
   "id": "9a6f0a0e-c8b9-4d87-ae4d-1141765575d5",
   "metadata": {},
   "outputs": [
    {
     "name": "stdout",
     "output_type": "stream",
     "text": [
      "2023-04-19 11:15:52.508 WARN [node_map.py:46] node_map_logger - \u001b[1;38;5;160mthe node name: tmp-exec has been defined, will be overwrite the node.\u001b[0m \n",
      "2023-04-19 11:15:52.509 INFO [node_map.py:52] node_map_logger - success to add node: \u001b[1;38;5;21mtmp-exec\u001b[0m \n",
      "2023-04-19 11:15:52.526 INFO [graph.py:677] ArsenalGraph_logger - \u0001\u0001开始发布任务\n",
      "2023-04-19 11:15:52.683 INFO [graph.py:599] ArsenalGraph_logger - \u0001\u0001任务提交成功，aflow_name: \u001b[1;38;5;21mlab-14-magic-4tpdvk\u001b[0m \n",
      "2023-04-19 11:15:52.684 INFO [graph.py:679] ArsenalGraph_logger - \u0001\u0001任务发布成功\n"
     ]
    }
   ],
   "source": [
    "%%spark_job run\n",
    "--kind python\n",
    "--filepath /dataset/zgyw/expect_salary/repartition.py\n",
    "--executor_cnt 20\n",
    "--executor_cpu 4\n",
    "--executor_memory 16g\n",
    "--driver_memory 32g\n",
    "--driver_cpu 8\n",
    "--image harbor.weizhipin.com/arsenal-oceanus/spark-py/spark-py:3.2.1.hadoop\n",
    "--proxy_user scientific_two\n",
    "--pending_wait_time 6h"
   ]
  },
  {
   "cell_type": "markdown",
   "id": "18d9adde-682d-40a5-9d53-33686a5f8a53",
   "metadata": {},
   "source": [
    "gpu_type 2080 3090"
   ]
  },
  {
   "cell_type": "code",
   "execution_count": null,
   "id": "97800254-ab33-4043-9b0c-9afdcf5fd00e",
   "metadata": {},
   "outputs": [],
   "source": [
    "4-30"
   ]
  },
  {
   "cell_type": "code",
   "execution_count": 15,
   "id": "d445a7d1-0fb9-4c8c-ae0b-5437d4ad23a5",
   "metadata": {},
   "outputs": [
    {
     "name": "stdout",
     "output_type": "stream",
     "text": [
      "2023-04-19 11:54:59.324 WARN [node_map.py:46] node_map_logger - \u001b[1;38;5;160mthe node name: tmp-exec has been defined, will be overwrite the node.\u001b[0m \n",
      "2023-04-19 11:54:59.324 INFO [node_map.py:52] node_map_logger - success to add node: \u001b[1;38;5;21mtmp-exec\u001b[0m \n",
      "2023-04-19 11:54:59.342 INFO [graph.py:677] ArsenalGraph_logger - \u0001\u0001开始发布任务\n",
      "2023-04-19 11:54:59.459 INFO [graph.py:599] ArsenalGraph_logger - \u0001\u0001任务提交成功，aflow_name: \u001b[1;38;5;21mlab-14-magic-lgandl\u001b[0m \n",
      "2023-04-19 11:54:59.460 INFO [graph.py:679] ArsenalGraph_logger - \u0001\u0001任务发布成功\n"
     ]
    }
   ],
   "source": [
    "%%simple_training submit \n",
    "--work_dir=/code/example/\n",
    "--worker_img=harbor.weizhipin.com/business-pro/webide-image-lab-14:causallearn-111.2\n",
    "--worker_cmd=python -u /dataset/zgyw/fci.py\n",
    "--cpu=16\n",
    "--memory=300Gi"
   ]
  },
  {
   "cell_type": "code",
   "execution_count": 3,
   "id": "06ed1ff9-1dd7-4512-9c44-b896e0fa4251",
   "metadata": {},
   "outputs": [
    {
     "name": "stdout",
     "output_type": "stream",
     "text": [
      "2023-04-11 11:24:05.204 WARN [node_map.py:46] node_map_logger - \u001b[1;38;5;160mthe node name: tmp-exec has been defined, will be overwrite the node.\u001b[0m \n",
      "2023-04-11 11:24:05.205 INFO [node_map.py:52] node_map_logger - success to add node: \u001b[1;38;5;21mtmp-exec\u001b[0m \n",
      "2023-04-11 11:24:05.231 INFO [graph.py:677] ArsenalGraph_logger - \u0001\u0001开始发布任务\n",
      "2023-04-11 11:24:05.365 INFO [graph.py:599] ArsenalGraph_logger - \u0001\u0001任务提交成功，aflow_name: \u001b[1;38;5;21mlab-14-magic-qgmozy\u001b[0m \n",
      "2023-04-11 11:24:05.365 INFO [graph.py:679] ArsenalGraph_logger - \u0001\u0001任务发布成功\n"
     ]
    }
   ],
   "source": [
    "%%simple_training submit \n",
    "--work_dir=/code/example/\n",
    "--worker_img=harbor.weizhipin.com/business-pro/webide-image-lab-14:causallearn-111\n",
    "--worker_cmd=python -u /dataset/zgyw/expect/arsenal/time_series_simple.py 4"
   ]
  },
  {
   "cell_type": "code",
   "execution_count": null,
   "id": "4a72ca94-b294-4c1d-a735-8e7b560c9627",
   "metadata": {},
   "outputs": [],
   "source": [
    "# \n",
    "magic_cmd = f\"\"\"\n",
    "%%simple_training submit \n",
    "--worker_img=harbor.weizhipin.com/business-pro/webide-image-lab-14:huggingface-2.5\n",
    "--worker_cmd=python jd_classify.py --data_path /code/matianhui/boss_bert/data\n",
    "--work_dir=/code/matianhui/recruit_pro_code/recruitpro\n",
    "--cpu=14\n",
    "--gpu=1\n",
    "--memory=64Gi\n",
    "--gpu_type=3090\n",
    "\"\"\"\n",
    "tag=10\n",
    "define_node('train%d'%tag, magic_cmd=magic_cmd, is_overwrite=True)\n",
    "exec_node('train%d'%tag,description='jd_cls_boss_bert')"
   ]
  }
 ],
 "metadata": {
  "kernelspec": {
   "display_name": "Python 3 (ipykernel)",
   "language": "python",
   "name": "python3"
  },
  "language_info": {
   "codemirror_mode": {
    "name": "ipython",
    "version": 3
   },
   "file_extension": ".py",
   "mimetype": "text/x-python",
   "name": "python",
   "nbconvert_exporter": "python",
   "pygments_lexer": "ipython3",
   "version": "3.8.13"
  },
  "vscode": {
   "interpreter": {
    "hash": "d4d1e4263499bec80672ea0156c357c1ee493ec2b1c70f0acce89fc37c4a6abe"
   }
  }
 },
 "nbformat": 4,
 "nbformat_minor": 5
}
